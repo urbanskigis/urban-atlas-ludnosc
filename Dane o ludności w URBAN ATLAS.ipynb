{
 "cells": [
  {
   "attachments": {},
   "cell_type": "markdown",
   "metadata": {},
   "source": [
    "### Dodanie atrybutów ze spisu powszechnego 2011 do obiektów zabudowy urban-atlas 2012\n",
    "\n",
    "[Spis powszechny:](https://geo.stat.gov.pl/aktualnosci)    (aktualności z datą 12.01.2017)\n",
    "\n",
    "[Urban atlas:](http://land.copernicus.eu/local/urban-atlas)\n",
    "\n",
    "Program poniżej dodaje dla każdego obiektu dowolnej polskiej warstwy pokrycia urban-atlas dane o ludności pozyskane w spisie powszechnym 2011 i udostępnione w siatce kilometrowej.\n",
    "\n",
    "Do programu (ArcGIS Pro) wprowadzamy pustą geobazę, SHP urban-atlas dla danego obszaru i część siatki ze spisu powszechnego pokrywająca ten obszar. Obie warstwy powinny być sprowadzone do jednego układu współrzędnych (np. ETRS 1989 Poland CS92)."
   ]
  },
  {
   "cell_type": "code",
   "execution_count": 3,
   "metadata": {},
   "outputs": [],
   "source": [
    "import numpy as np\n",
    "import arcpy\n",
    "\n",
    "arcpy.env.workspace=r\"C:\\SP8\\POPULACJA\\LudCorUrb\\LudCorUrb.gdb\"\n",
    "\n",
    "\n",
    "corine_urb=r\"C:\\SP8\\POPULACJA\\CORINE_URBAN_POMORSKIE.shp\"                         # ETRS 1989 Poland CS92 corine_urb \n",
    "geostat_pop=r\"C:\\SP8\\POPULACJA\\PD_STAT_GRID_CELL_2011_URB_POM.shp\"  # ETRS 1989 Poland CS92   siatka pokrywająca corine_urb\n",
    "corine_urb2=r\"C:\\SP8\\POPULACJA\\CORINE_URBAN_POMORSKIE_POP2.shp\" \n",
    "\n",
    "# do dopasowania z powyższych (pole z ID w warstwie po Union)\n",
    "fid1=\"FID_PD_STAT_GRID_CELL_2011_URB_POM\"\n",
    "fid2=\"FID_CORINE_URBAN_POMORSKIE\""
   ]
  },
  {
   "cell_type": "code",
   "execution_count": 4,
   "metadata": {},
   "outputs": [
    {
     "name": "stdout",
     "output_type": "stream",
     "text": [
      "rekordy 24194\n"
     ]
    }
   ],
   "source": [
    "# Krok1 \n",
    "arcpy.Union_analysis([corine_urb, geostat_pop], \"temp_1\")\n",
    "# Krok2 - tylko pokrycia zamieszkane\n",
    "where_clause = \"CODE2012='11100' OR CODE2012='11210' OR CODE2012='11220' OR CODE2012='11230' OR CODE2012='11240' OR CODE2012='11300'\"\n",
    "arcpy.Select_analysis(\"temp_1\",\"temp_2\", where_clause)\n",
    "# Krok 3  - sortowanie po ID kwadratów statystycznych\n",
    "arcpy.Sort_management(\"temp_2\", \"temp_2s\", [[fid1, \"ASCENDING\"]])\n",
    "# Krok 4 \n",
    "rekordy=int(arcpy.GetCount_management(\"temp_2s\").getOutput(0))\n",
    "print('rekordy',rekordy)"
   ]
  },
  {
   "cell_type": "code",
   "execution_count": 5,
   "metadata": {},
   "outputs": [],
   "source": [
    "# Struktury danych\n",
    "\n",
    "tab1=np.zeros((rekordy,3),int)       #  0-ID kwadratu statystycznego, 1-ID pokrycia Corine, 2-kod pokrycia\n",
    "                                     \n",
    "tab2=np.zeros((rekordy,16),float)    # 0-TOT, 1-TOT_0_14, 2-TOT_15_64, 3-TOT_65__, 4-TOT_MALE, 5-TOT_FEM,\n",
    "                                    # 6- MALE_0_14, 7-MALE_15_64,8-MALE_65__,9-FEM_0_14, 10-FEM_15_64, 11-FEM_65__,\n",
    "                                    # 12-Shape_Area, 13-procent pokrycia pop, 14 - pow*proc, 15-suma pow*proc dla ID kw.stat\n",
    "        \n",
    "tab3=np.zeros((rekordy,12),float)   # Wyniki dla rekordu: 0-TOT, 1-TOT_0_14, 2-TOT_15_64, 3-TOT_65__, 4-TOT_MALE, 5-TOT_FEM,\n",
    "                                    # 6- MALE_0_14, 7-MALE_15_64,8-MALE_65__,9-FEM_0_14, 10-FEM_15_64, 11-FEM_65__,\n",
    "\n",
    "# do tablic tab1, tab2\n",
    "with arcpy.da.SearchCursor(\"temp_2s\",[fid1,fid2,\"CODE2012\",\"TOT\",\"TOT_0_14\",\n",
    "                                     \"TOT_15_64\",\"TOT_65__\",\"TOT_MALE\",\n",
    "                                     \"TOT_FEM\",\"MALE_0_14\",\"MALE_15_64\",\n",
    "                                      \"MALE_65__\",\"FEM_0_14\",\"FEM_15_64\",\n",
    "                                      \"FEM_65__\",\"Shape_Area\"]) as cur:\n",
    "    ii=0\n",
    "    for row in cur:\n",
    "        tab1[ii,0]=row[0];tab1[ii,1]=row[1];tab1[ii,2]=int(row[2])\n",
    "        tab2[ii,0]=row[3];tab2[ii,1]=row[4];tab2[ii,2]=row[5]\n",
    "        tab2[ii,3]=row[6];tab2[ii,4]=row[7];tab2[ii,5]=row[8]\n",
    "        tab2[ii,6]=row[9];tab2[ii,7]=row[10];tab2[ii,8]=row[11]\n",
    "        tab2[ii,9]=row[12];tab2[ii,10]=row[13];tab2[ii,11]=row[14]\n",
    "        tab2[ii,12]=row[15]\n",
    "        ii+=1\n",
    "del cur"
   ]
  },
  {
   "cell_type": "code",
   "execution_count": 6,
   "metadata": {},
   "outputs": [
    {
     "name": "stdout",
     "output_type": "stream",
     "text": [
      "0 31 17155 11300 4990.4 0.0 0.0 0.0\n",
      "1 32 16357 11300 5015.9 0.0 0.0 0.0\n",
      "2 32 16292 11300 3985.4 0.0 0.0 0.0\n",
      "3 32 16360 11300 35.0 0.0 0.0 0.0\n",
      "4 32 16320 11300 5636.4 0.0 0.0 0.0\n",
      "5 32 16344 11300 3858.7 0.0 0.0 0.0\n",
      "6 32 16338 11300 6379.1 0.0 0.0 0.0\n",
      "7 40 18235 11300 2686.0 0.0 0.0 0.0\n",
      "8 40 18177 11300 2652.1 0.0 0.0 0.0\n",
      "9 42 18201 11300 2725.1 0.0 0.0 0.0\n"
     ]
    }
   ],
   "source": [
    "# OPCJONALNIE kontrola procesu\n",
    "for ii in range(0,10):\n",
    "    print(ii,tab1[ii,0],tab1[ii,1],tab1[ii,2],round(tab2[ii,12],1),tab2[ii,13],round(tab2[ii,14],2),round(tab2[ii,15]))   "
   ]
  },
  {
   "cell_type": "code",
   "execution_count": 7,
   "metadata": {},
   "outputs": [],
   "source": [
    "# Wpisanie procentowego pokrycia populcja\n",
    "# tab2[,13 - Proc], tab2[,14 - Pow*Proc]\n",
    "\n",
    "def proc(kodd):\n",
    "    if kodd==11100:\n",
    "        pp=0.90\n",
    "    elif kodd==11210:\n",
    "        pp=0.65\n",
    "    elif kodd==11220:\n",
    "        pp=0.4\n",
    "    elif kodd==11230:\n",
    "        pp=0.2\n",
    "    elif kodd==11240:\n",
    "        pp=0.05\n",
    "    elif kodd==11300:\n",
    "        pp=0.5\n",
    "    return pp\n",
    "\n",
    "for i in range(0,rekordy):\n",
    "    tab2[i,13]=proc(tab1[i,2])\n",
    "    tab2[i,14]=tab2[i,13]*tab2[i,12]"
   ]
  },
  {
   "cell_type": "markdown",
   "metadata": {},
   "source": [
    "![Obrazek 0](img\\alg2.png)"
   ]
  },
  {
   "cell_type": "code",
   "execution_count": 8,
   "metadata": {},
   "outputs": [],
   "source": [
    "# Obliczanie sumy pow*proc dla danego fid1\n",
    "\n",
    "tab_x=np.zeros((rekordy),float)   # Suma pow * proc dla danego fid1-indeksu w tablicy)\n",
    "\n",
    "iis=tab1[0,0]  # indeks fid1  \n",
    "suma=tab2[0,14] #pow*proc\n",
    "\n",
    "for i in range(1,rekordy):\n",
    "                if  tab1[i,0]==iis:\n",
    "                      suma=suma+tab2[i,14]  # obliczanie sumy pow*proc                      \n",
    "                else:\n",
    "                    tab_x[iis]=suma\n",
    "                    iis=tab1[i,0];suma=tab2[i,14]\n",
    "tab_x[iis]=suma               "
   ]
  },
  {
   "cell_type": "code",
   "execution_count": 9,
   "metadata": {},
   "outputs": [
    {
     "name": "stdout",
     "output_type": "stream",
     "text": [
      "31 2495.2248396265577\n",
      "32 12455.229351912107\n",
      "33 0.0\n",
      "34 0.0\n",
      "35 0.0\n",
      "36 0.0\n",
      "37 0.0\n",
      "38 0.0\n",
      "39 0.0\n",
      "40 2669.035449222048\n",
      "41 0.0\n"
     ]
    }
   ],
   "source": [
    "# OPCJONALNIE  kontrola procesu\n",
    "\n",
    "for i in range(31,42):\n",
    "    print(i,tab_x[i])"
   ]
  },
  {
   "cell_type": "code",
   "execution_count": 12,
   "metadata": {},
   "outputs": [],
   "source": [
    "# wpisanie sum pow*proc \n",
    "for i in range(0,rekordy):\n",
    "    tab2[i,15]=tab_x[tab1[i,0]]"
   ]
  },
  {
   "cell_type": "code",
   "execution_count": 13,
   "metadata": {},
   "outputs": [],
   "source": [
    "# obliczenie populacji\n",
    "for i in range(0,rekordy):\n",
    "    for k in range(0,12):\n",
    "        tab3[i,k]=(tab2[i,k]/tab2[i,15])*tab2[i,14]"
   ]
  },
  {
   "cell_type": "code",
   "execution_count": 14,
   "metadata": {},
   "outputs": [
    {
     "name": "stdout",
     "output_type": "stream",
     "text": [
      "17155 38.0 9.0 25.0 4.0 21.0 17.0 4.0 15.0 0.0 5.0 10.0 3.0\n",
      "16357 3.8 0.8 2.4 0.6 1.8 2.0 0.6 1.0 0.0 0.6 1.4 0.6\n",
      "16292 3.0 0.6 1.9 0.5 1.4 1.6 0.5 0.8 0.0 0.5 1.1 0.5\n",
      "16360 0.0 0.0 0.0 0.0 0.0 0.0 0.0 0.0 0.0 0.0 0.0 0.0\n",
      "16320 4.3 0.9 2.7 0.7 2.0 2.3 0.7 1.1 0.0 0.7 1.6 0.7\n",
      "16344 2.9 0.6 1.9 0.5 1.4 1.5 0.5 0.8 0.0 0.5 1.1 0.5\n",
      "16338 4.9 1.0 3.1 0.8 2.3 2.6 0.8 1.3 0.0 0.8 1.8 0.8\n",
      "18235 10.1 2.0 7.0 0.0 6.5 3.5 1.5 5.0 0.0 0.0 2.0 1.5\n",
      "18177 9.9 2.0 7.0 0.0 6.5 3.5 1.5 5.0 0.0 0.0 2.0 1.5\n",
      "18201 6.0 0.0 5.0 0.0 4.0 0.0 0.0 3.0 0.0 0.0 0.0 0.0\n"
     ]
    }
   ],
   "source": [
    "# OPCJONALNIE kontrola procesu\n",
    "for i in range(0,10):\n",
    "    print(tab1[i,1],round(tab3[i,0],1),round(tab3[i,1],1),round(tab3[i,2],1),round(tab3[i,3],1),\n",
    "    round(tab3[i,4],1),round(tab3[i,5],1),round(tab3[i,6],1),round(tab3[i,7],1),round(tab3[i,8],1),\n",
    "    round(tab3[i,9],1),round(tab3[i,10],1),round(tab3[i,11],1))"
   ]
  },
  {
   "cell_type": "code",
   "execution_count": 15,
   "metadata": {},
   "outputs": [
    {
     "data": {
      "text/plain": [
       "<Result 'C:\\\\SP8\\\\POPULACJA\\\\LudCorUrb\\\\LudCorUrb.gdb\\\\temptab1'>"
      ]
     },
     "execution_count": 15,
     "metadata": {},
     "output_type": "execute_result"
    }
   ],
   "source": [
    "#0 - CORID,  1-TOT, 2-TOT_0_14, 2-TOT_15_64, 3-TOT_65__, 4-TOT_MALE, 5-TOT_FEM,\n",
    "# 6- MALE_0_14, 7-MALE_15_64,8-MALE_65__,9-FEM_0_14, 10-FEM_15_64, 11-FEM_65__,\n",
    "tabb=\"temptab1\"\n",
    "arcpy.CreateTable_management(arcpy.env.workspace,tabb)\n",
    "arcpy.AddField_management(tabb,\"CORID\",\"LONG\")\n",
    "arcpy.AddField_management(tabb,\"TOT\",\"FLOAT\")\n",
    "arcpy.AddField_management(tabb,\"TOT_0_14\",\"FLOAT\")\n",
    "arcpy.AddField_management(tabb,\"TOT_15_64\",\"FLOAT\")\n",
    "arcpy.AddField_management(tabb,\"TOT_65_\",\"FLOAT\")\n",
    "arcpy.AddField_management(tabb,\"TOT_MALE\",\"FLOAT\")\n",
    "arcpy.AddField_management(tabb,\"TOT_FEM\",\"FLOAT\")\n",
    "arcpy.AddField_management(tabb,\"MALE_0_14\",\"FLOAT\")\n",
    "arcpy.AddField_management(tabb,\"MALE_15_64\",\"FLOAT\")\n",
    "arcpy.AddField_management(tabb,\"MALE_65_\",\"FLOAT\")\n",
    "arcpy.AddField_management(tabb,\"FEM_0_14\",\"FLOAT\")\n",
    "arcpy.AddField_management(tabb,\"FEM_15_64\",\"FLOAT\")\n",
    "arcpy.AddField_management(tabb,\"FEM_65_\",\"FLOAT\")"
   ]
  },
  {
   "cell_type": "code",
   "execution_count": 16,
   "metadata": {},
   "outputs": [],
   "source": [
    "# wypełnienie tablicy\n",
    "\n",
    "with arcpy.da.InsertCursor(tabb,[\"CORID\",\"TOT\",\"TOT_0_14\",\"TOT_15_64\",\"TOT_65_\",\"TOT_MALE\",\"TOT_FEM\",\n",
    "                                \"MALE_0_14\",\"MALE_15_64\",\"MALE_65_\",\"FEM_0_14\",\"FEM_15_64\",\"FEM_65_\"]) as cur:\n",
    "   for i in range(0,rekordy):\n",
    "       rr=(tab1[i,1],round(tab3[i,0],2),round(tab3[i,1],2),round(tab3[i,2],2),round(tab3[i,3],2),round(tab3[i,4],2),\n",
    "          round(tab3[i,5],2),round(tab3[i,6],2),round(tab3[i,7],2),round(tab3[i,8],2),round(tab3[i,9],2),\n",
    "          round(tab3[i,10],2),round(tab3[i,11],2))\n",
    "       cur.insertRow(rr)\n",
    "\n",
    "del cur"
   ]
  },
  {
   "cell_type": "code",
   "execution_count": 17,
   "metadata": {},
   "outputs": [
    {
     "data": {
      "text/plain": [
       "<Result 'C:\\\\SP8\\\\POPULACJA\\\\LudCorUrb\\\\LudCorUrb.gdb\\\\temptab2'>"
      ]
     },
     "execution_count": 17,
     "metadata": {},
     "output_type": "execute_result"
    }
   ],
   "source": [
    "# suma dla każdego CORID\n",
    "LL=[[\"TOT\",\"SUM\"],[\"TOT_0_14\",\"SUM\"],[\"TOT_15_64\",\"SUM\"],[\"TOT_65_\",\"SUM\"],[\"TOT_MALE\",\"SUM\"],[\"TOT_FEM\",\"SUM\"],\n",
    "    [\"MALE_0_14\",\"SUM\"],[\"MALE_15_64\",\"SUM\"],[\"MALE_65_\",\"SUM\"],[\"FEM_0_14\",\"SUM\"],[\"FEM_15_64\",\"SUM\"],[\"FEM_65_\",\"SUM\"]]\n",
    "arcpy.Statistics_analysis(tabb,\"temptab2\", LL, \"CORID\")"
   ]
  },
  {
   "cell_type": "code",
   "execution_count": 18,
   "metadata": {},
   "outputs": [
    {
     "data": {
      "text/plain": [
       "<Result 'C:\\\\SP8\\\\POPULACJA\\\\CORINE_URBAN_POMORSKIE_POP2.shp'>"
      ]
     },
     "execution_count": 18,
     "metadata": {},
     "output_type": "execute_result"
    }
   ],
   "source": [
    "arcpy.Select_analysis(corine_urb,corine_urb2)\n",
    "LL2=[\"SUM_TOT\",\"SUM_TOT_0_14\",\"SUM_TOT_15_64\",\"SUM_TOT_65_\",\"SUM_TOT_MALE\",\"SUM_TOT_FEM\",\n",
    "     \"SUM_MALE_0_14\",\"SUM_MALE_15_64\",\"SUM_MALE_65_\",\"SUM_FEM_0_14\",\"SUM_FEM_15_64\",\"SUM_FEM_65_\"]\n",
    "arcpy.JoinField_management(corine_urb2,'FID',\"temptab2\",'CORID', LL2)"
   ]
  },
  {
   "cell_type": "code",
   "execution_count": 19,
   "metadata": {},
   "outputs": [
    {
     "data": {
      "text/plain": [
       "<Result 'true'>"
      ]
     },
     "execution_count": 19,
     "metadata": {},
     "output_type": "execute_result"
    }
   ],
   "source": [
    "# Czyszcenie warstw tymczasowych w geobazie\n",
    "\n",
    "arcpy.Delete_management('temp_1')\n",
    "arcpy.Delete_management('temp_2')\n",
    "arcpy.Delete_management('temp_2s')\n",
    "arcpy.Delete_management('temptab1')\n",
    "arcpy.Delete_management('temptab2')"
   ]
  },
  {
   "cell_type": "markdown",
   "metadata": {},
   "source": [
    "#### Przykładowa mapa wynikowa przedstawia procentowy udział mieszkańców o wieku  65 lat i więcej\n",
    "\n",
    "\n",
    "![Obrazek 1](img\\mieszkancy_64.jpg)"
   ]
  },
  {
   "cell_type": "code",
   "execution_count": null,
   "metadata": {},
   "outputs": [],
   "source": []
  }
 ],
 "metadata": {
  "kernelspec": {
   "display_name": "Python 3",
   "language": "python",
   "name": "python3"
  },
  "language_info": {
   "codemirror_mode": {
    "name": "ipython",
    "version": 3
   },
   "file_extension": ".py",
   "mimetype": "text/x-python",
   "name": "python",
   "nbconvert_exporter": "python",
   "pygments_lexer": "ipython3",
   "version": "3.6.6"
  }
 },
 "nbformat": 4,
 "nbformat_minor": 2
}
